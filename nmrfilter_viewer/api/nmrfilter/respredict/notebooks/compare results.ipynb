{
 "cells": [
  {
   "cell_type": "code",
   "execution_count": 280,
   "metadata": {
    "ExecuteTime": {
     "end_time": "2018-11-10T18:08:56.724893Z",
     "start_time": "2018-11-10T18:08:56.698232Z"
    },
    "run_control": {
     "frozen": false,
     "read_only": false
    }
   },
   "outputs": [
    {
     "name": "stdout",
     "output_type": "stream",
     "text": [
      "Populating the interactive namespace from numpy and matplotlib\n"
     ]
    },
    {
     "name": "stderr",
     "output_type": "stream",
     "text": [
      "/data/jonas/anaconda/envs/py36/lib/python3.6/site-packages/IPython/core/magics/pylab.py:160: UserWarning: pylab import has clobbered these variables: ['f']\n",
      "`%matplotlib` prevents importing * from pylab and numpy\n",
      "  \"\\n`%matplotlib` prevents importing * from pylab and numpy\"\n"
     ]
    },
    {
     "data": {
      "text/plain": [
       "<module 'util' from '../util.py'>"
      ]
     },
     "execution_count": 280,
     "metadata": {},
     "output_type": "execute_result"
    }
   ],
   "source": [
    "%pylab inline\n",
    "import numpy as np\n",
    "import pandas as pd\n",
    "\n",
    "import sys; sys.path.append(\"../\")\n",
    "import metrics\n",
    "\n",
    "import pickle\n",
    "import seaborn as sns\n",
    "sns.set_style('whitegrid')\n",
    "from tqdm import tqdm_notebook as tqdm\n",
    "\n",
    "from importlib import reload\n",
    "import util\n",
    "reload(util)"
   ]
  },
  {
   "cell_type": "code",
   "execution_count": 256,
   "metadata": {
    "ExecuteTime": {
     "end_time": "2018-11-10T18:00:19.045779Z",
     "start_time": "2018-11-10T18:00:18.367888Z"
    }
   },
   "outputs": [
    {
     "data": {
      "text/html": [
       "<div>\n",
       "<style scoped>\n",
       "    .dataframe tbody tr th:only-of-type {\n",
       "        vertical-align: middle;\n",
       "    }\n",
       "\n",
       "    .dataframe tbody tr th {\n",
       "        vertical-align: top;\n",
       "    }\n",
       "\n",
       "    .dataframe thead th {\n",
       "        text-align: right;\n",
       "    }\n",
       "</style>\n",
       "<table border=\"1\" class=\"dataframe\">\n",
       "  <thead>\n",
       "    <tr style=\"text-align: right;\">\n",
       "      <th></th>\n",
       "      <th></th>\n",
       "      <th>value</th>\n",
       "    </tr>\n",
       "    <tr>\n",
       "      <th>molecule_id</th>\n",
       "      <th>atom_idx</th>\n",
       "      <th></th>\n",
       "    </tr>\n",
       "  </thead>\n",
       "  <tbody>\n",
       "    <tr>\n",
       "      <th rowspan=\"5\" valign=\"top\">4001</th>\n",
       "      <th>0</th>\n",
       "      <td>18.3</td>\n",
       "    </tr>\n",
       "    <tr>\n",
       "      <th>1</th>\n",
       "      <td>41.8</td>\n",
       "    </tr>\n",
       "    <tr>\n",
       "      <th>2</th>\n",
       "      <td>33.5</td>\n",
       "    </tr>\n",
       "    <tr>\n",
       "      <th>3</th>\n",
       "      <td>42.2</td>\n",
       "    </tr>\n",
       "    <tr>\n",
       "      <th>4</th>\n",
       "      <td>42.0</td>\n",
       "    </tr>\n",
       "  </tbody>\n",
       "</table>\n",
       "</div>"
      ],
      "text/plain": [
       "                      value\n",
       "molecule_id atom_idx       \n",
       "4001        0          18.3\n",
       "            1          41.8\n",
       "            2          33.5\n",
       "            3          42.2\n",
       "            4          42.0"
      ]
     },
     "execution_count": 256,
     "metadata": {},
     "output_type": "execute_result"
    }
   ],
   "source": [
    "# mean spectrum\n",
    "spect_df = []\n",
    "for nuc in ['1H', '13C']:\n",
    "    \n",
    "    spect_filename = f'../dataset.named/spectra.nmrshiftdb_{nuc}.feather'\n",
    "    a = pd.read_feather(spect_filename)\n",
    "    a['nuc'] = nuc\n",
    "    spect_df.append(a)\n",
    "spect_df = pd.concat(spect_df)\n",
    "spect_agg_df = spect_df.groupby(['molecule_id', 'atom_idx']).agg({'value' : 'median'})\n",
    "spect_agg_df.head()"
   ]
  },
  {
   "cell_type": "markdown",
   "metadata": {},
   "source": [
    "# clean hose data"
   ]
  },
  {
   "cell_type": "code",
   "execution_count": 257,
   "metadata": {
    "ExecuteTime": {
     "end_time": "2018-11-10T18:00:54.190112Z",
     "start_time": "2018-11-10T18:00:20.675362Z"
    }
   },
   "outputs": [
    {
     "name": "stdout",
     "output_type": "stream",
     "text": [
      "WARNING WHY DO WE HAVE NANS IN HOSE_PREDS\n",
      "341139\n",
      "339835\n"
     ]
    }
   ],
   "source": [
    "# clean up and sort hose data\n",
    "hose_preds_df = pd.read_feather(\"../hose/hose_preds_df.feather\")\n",
    "### FIXME\n",
    "\n",
    "del hose_preds_df['id']\n",
    "del hose_preds_df['value']\n",
    "del hose_preds_df['delta']\n",
    "del hose_preds_df['delta_abs'] # .groupby([\"mol_id\", 'atom_idx'])\n",
    "hose_preds_df = hose_preds_df.join(spect_agg_df, on =['mol_id', 'atom_idx'])\n",
    "\n",
    "print(\"WARNING WHY DO WE HAVE NANS IN HOSE_PREDS\")\n",
    "print(len(hose_preds_df))\n",
    "print(len(hose_preds_df.dropna()))\n",
    "hose_preds_df = hose_preds_df.dropna()\n",
    "\n",
    "hose_preds_df['delta'] = hose_preds_df.value - hose_preds_df.pred\n",
    "hose_preds_df['delta_abs'] = np.abs(hose_preds_df.delta)\n",
    "hose_preds_df['delta_sq'] = np.abs(hose_preds_df.delta**2)\n",
    "\n",
    "a = []\n",
    "\n",
    "\n",
    "for nuc, df_nuc in hose_preds_df.groupby('nuc', as_index=False):\n",
    "    df_nuc = df_nuc.copy()\n",
    "    for sphere_min in [1, 2, 3, 4, 5, 6]:\n",
    "        b = df_nuc[df_nuc.sphere_no >= sphere_min].copy()\n",
    "        b['sphere_min'] = sphere_min\n",
    "        a.append(b)\n",
    "a = pd.concat(a)\n",
    "hose_sphere_scores_df  = a.groupby(['nuc', 'sphere_min']).apply(metrics.compute_stats, \n",
    "                                                                mol_id_field='mol_id').reset_index()\n"
   ]
  },
  {
   "cell_type": "code",
   "execution_count": 233,
   "metadata": {
    "ExecuteTime": {
     "end_time": "2018-11-10T17:35:38.335983Z",
     "start_time": "2018-11-10T17:35:38.176474Z"
    }
   },
   "outputs": [
    {
     "name": "stdout",
     "output_type": "stream",
     "text": [
      "423115\n",
      "423115\n"
     ]
    }
   ],
   "source": [
    "print(len(hose_preds_df))\n",
    "print(len(hose_preds_df.dropna()))"
   ]
  },
  {
   "cell_type": "code",
   "execution_count": 259,
   "metadata": {
    "ExecuteTime": {
     "end_time": "2018-11-10T18:02:09.478664Z",
     "start_time": "2018-11-10T18:02:09.346320Z"
    }
   },
   "outputs": [],
   "source": [
    "hose_sphere_scores_df['total_atom_n'] = 0\n",
    "hose_sphere_scores_df.loc[hose_sphere_scores_df.nuc == '13C', \n",
    "                          'total_atom_n'] = len(hose_preds_df[hose_preds_df.nuc == '13C'])\n",
    "\n",
    "hose_sphere_scores_df.loc[hose_sphere_scores_df.nuc == '1H', \n",
    "                          'total_atom_n'] = len(hose_preds_df[hose_preds_df.nuc == '1H'])\n",
    "\n",
    "hose_sphere_scores_df['nuc_frac'] = hose_sphere_scores_df.n / hose_sphere_scores_df.total_atom_n"
   ]
  },
  {
   "cell_type": "markdown",
   "metadata": {},
   "source": [
    "# neural net data"
   ]
  },
  {
   "cell_type": "code",
   "execution_count": 355,
   "metadata": {
    "ExecuteTime": {
     "end_time": "2018-11-11T01:37:03.886535Z",
     "start_time": "2018-11-11T01:37:02.325697Z"
    }
   },
   "outputs": [],
   "source": [
    "from glob import glob\n",
    "all_df = []\n",
    "for filename in glob(\"../preds/1H_good_cv?.feather.200\"):\n",
    "    df = pd.read_feather(filename)\n",
    "    df['filename'] = filename\n",
    "    all_df.append(df)\n",
    "\n",
    "for filename in glob(\"../preds/13C_good_cv?.feather.300\"):\n",
    "    df = pd.read_feather(filename)\n",
    "    df['filename'] = filename\n",
    "    all_df.append(df)\n",
    "        \n",
    "    \n",
    "nn_results_df = pd.concat(all_df)\n",
    "nn_results_df = nn_results_df[nn_results_df.phase == 'test'].copy()\n",
    "\n",
    "nn_results_df = nn_results_df.drop_duplicates(subset=['molecule_id', 'atom_idx'])\n",
    "del nn_results_df['value']\n",
    "nn_results_df = nn_results_df.join(spect_agg_df, on =['molecule_id', 'atom_idx'])\n",
    "\n",
    "\n",
    "nn_results_df['delta'] = nn_results_df.value - nn_results_df.pred_mu\n",
    "nn_results_df['delta_abs'] = np.abs(nn_results_df.delta)\n",
    "nn_results_df['delta_sq'] = np.abs(nn_results_df.delta**2)\n"
   ]
  },
  {
   "cell_type": "code",
   "execution_count": 260,
   "metadata": {
    "ExecuteTime": {
     "end_time": "2018-11-10T18:02:11.724104Z",
     "start_time": "2018-11-10T18:02:11.308479Z"
    }
   },
   "outputs": [],
   "source": [
    "nn_results_df = []\n",
    "for nuc, filename, tgt_epoch in [('13C', \"../preds/13C_good_all.meta.pickle\", 300), \n",
    "                                ('1H', \"../preds/1H_good_all.meta.pickle\", 200)\n",
    "                                ]:\n",
    "\n",
    "    meta_info = pickle.load(open(filename, 'rb'))\n",
    "    meta_df = meta_info['meta']\n",
    "    epoch_filename = meta_df[meta_df.epoch == tgt_epoch].iloc[0].epoch_filename\n",
    "\n",
    "    results_df = pd.read_feather(\"../\" + epoch_filename)\n",
    "    results_df['nuc'] = nuc\n",
    "\n",
    "    nn_results_df.append(results_df)\n",
    "nn_results_df = pd.concat(nn_results_df)\n",
    "\n",
    "nn_results_df = nn_results_df.drop_duplicates(subset=['molecule_id', 'atom_idx'])\n",
    "del nn_results_df['value']\n",
    "nn_results_df = nn_results_df.join(spect_agg_df, on =['molecule_id', 'atom_idx'])\n",
    "\n",
    "\n",
    "nn_results_df['delta'] = nn_results_df.value - nn_results_df.pred_mu\n",
    "nn_results_df['delta_abs'] = np.abs(nn_results_df.delta)\n",
    "nn_results_df['delta_sq'] = np.abs(nn_results_df.delta**2)"
   ]
  },
  {
   "cell_type": "code",
   "execution_count": 356,
   "metadata": {
    "ExecuteTime": {
     "end_time": "2018-11-11T01:37:17.466401Z",
     "start_time": "2018-11-11T01:37:17.103340Z"
    }
   },
   "outputs": [],
   "source": [
    "nn_fracs = []\n",
    "for nuc in ['13C', '1H']:\n",
    "    a = nn_results_df[nn_results_df.nuc == nuc]\n",
    "    a = a[a.phase == 'test']\n",
    "    a = a.sort_values('pred_std')\n",
    "    m = np.array(a.delta_abs.expanding().mean())\n",
    "    frac_data = np.arange(len(m))/len(m)\n",
    "    nn_fracs.append(pd.DataFrame({'mean_abs' : m, 'frac' : frac_data, 'nuc' : nuc}))\n",
    "nn_fracs_df = pd.concat(nn_fracs)"
   ]
  },
  {
   "cell_type": "markdown",
   "metadata": {},
   "source": [
    "# plot both"
   ]
  },
  {
   "cell_type": "code",
   "execution_count": 357,
   "metadata": {
    "ExecuteTime": {
     "end_time": "2018-11-11T01:37:21.808276Z",
     "start_time": "2018-11-11T01:37:20.695626Z"
    }
   },
   "outputs": [
    {
     "data": {
      "image/png": "[encoded data removed]",
      "text/plain": [
       "<Figure size 288x216 with 1 Axes>"
      ]
     },
     "metadata": {},
     "output_type": "display_data"
    },
    {
     "data": {
      "image/png": "[encoded data removed]",
      "text/plain": [
       "<Figure size 288x216 with 1 Axes>"
      ]
     },
     "metadata": {},
     "output_type": "display_data"
    }
   ],
   "source": [
    "\n",
    "\n",
    "for nuc in ['1H', '13C']:\n",
    "\n",
    "    fig = pylab.figure(figsize=(4, 3))\n",
    "    ax = fig.add_subplot(1, 1, 1)\n",
    "    a = nn_fracs_df[nn_fracs_df.nuc == nuc]\n",
    "    ax.plot(a.frac, a.mean_abs, label='GNN', c=sns.xkcd_rgb[\"medium blue\"])\n",
    "\n",
    "\n",
    "    b = hose_sphere_scores_df[hose_sphere_scores_df.nuc == nuc]\n",
    "    ax.plot(b.nuc_frac, b.mean_abs, c=sns.xkcd_rgb[\"pale red\"], label='HOSE')\n",
    "    ax.scatter(b.nuc_frac, b.mean_abs, c=sns.xkcd_rgb[\"pale red\"], label=None)\n",
    "    ax.set_title(f'{nuc} nucleus ')\n",
    "    ax.set_ylabel(\"mean abs err (ppm)\")\n",
    "    ax.set_xlabel(\"fraction of nuclei\")\n",
    "    ax.set_xticks([0.0, 0.25, 0.5, 0.75, 1.0])\n",
    "    sns.despine()\n",
    "    ax.grid(False)\n",
    "    pylab.legend()\n",
    "    fig.tight_layout()\n",
    "    fig.savefig(f\"compare results.nn_vs_hose_frac.{nuc}.pdf\")"
   ]
  },
  {
   "cell_type": "markdown",
   "metadata": {},
   "source": [
    "# Load Ab initio"
   ]
  },
  {
   "cell_type": "code",
   "execution_count": 358,
   "metadata": {
    "ExecuteTime": {
     "end_time": "2018-11-11T01:37:52.584764Z",
     "start_time": "2018-11-11T01:37:52.440371Z"
    }
   },
   "outputs": [
    {
     "name": "stdout",
     "output_type": "stream",
     "text": [
      "total ab molecules: 194\n"
     ]
    }
   ],
   "source": [
    "nmrab_results_raw_df = pd.read_feather(\"../../nmrabinitio/simulate.gaussian/nmr/pop_32_300_HCON_macro_tantillo1_geom_nmr.shifts.feather\")\n",
    "print(\"total ab molecules:\", len(nmrab_results_raw_df.mol_id.unique()))\n",
    "# do a little cleanup:\n",
    "\n",
    "\n",
    "nmrab_results_df = nmrab_results_raw_df[['mol_id', 'atom_idx',  'pred', 'element']].drop_duplicates(subset=['mol_id', 'atom_idx']).copy()\n",
    "\n",
    "nmrab_results_df = nmrab_results_df.join(spect_agg_df, on =['mol_id', 'atom_idx'])\n",
    "\n",
    "\n",
    "nmrab_results_df['nuc'] = nmrab_results_df.element.apply(lambda x: '13C' if x =='C' else  '1H')\n",
    "\n",
    "\n",
    "nmrab_results_df['delta'] = nmrab_results_df.value - nmrab_results_df.pred\n",
    "nmrab_results_df['delta_abs'] = np.abs(nmrab_results_df.delta)\n",
    "nmrab_results_df['delta_sq'] = np.abs(nmrab_results_df.delta**2)\n",
    "\n"
   ]
  },
  {
   "cell_type": "markdown",
   "metadata": {},
   "source": [
    "# Combine data"
   ]
  },
  {
   "cell_type": "code",
   "execution_count": 359,
   "metadata": {
    "ExecuteTime": {
     "end_time": "2018-11-11T01:37:55.005113Z",
     "start_time": "2018-11-11T01:37:54.208236Z"
    }
   },
   "outputs": [],
   "source": [
    "# Combine\n",
    "a = nmrab_results_df.copy()\n",
    "del a['element']\n",
    "a['method'] = 'abinitio'\n",
    "\n",
    "b = hose_preds_df.copy()\n",
    "del b['sphere_no']\n",
    "#del b['id']\n",
    "del b['filename']\n",
    "b = b.dropna()\n",
    "b['mol_id'] = b.mol_id.astype(int)\n",
    "b['method'] ='hose'\n",
    "\n",
    "c = nn_results_df[nn_results_df.phase == 'test'].copy()\n",
    "c['pred'] = c['pred_mu']\n",
    "c['mol_id'] = c['molecule_id']\n",
    "for f in ['m_pos', 'nuc_i', 'pred_mu', 'pred_std', 'molecule_id', 'phase', 'epoch_i', 'delta_sq']:\n",
    "    del c[f]\n",
    "c['method'] = 'gnn'\n",
    "\n",
    "all_pred_df = pd.concat([a, b, c], sort=False)\n",
    "common_mols = set(a.mol_id).intersection(set(b.mol_id).intersection(set(c.mol_id)))\n",
    "all_pred_common_df = all_pred_df[all_pred_df.mol_id.isin(common_mols)]"
   ]
  },
  {
   "cell_type": "code",
   "execution_count": 360,
   "metadata": {
    "ExecuteTime": {
     "end_time": "2018-11-11T01:37:55.937314Z",
     "start_time": "2018-11-11T01:37:55.617761Z"
    }
   },
   "outputs": [
    {
     "data": {
      "text/html": [
       "<div>\n",
       "<style scoped>\n",
       "    .dataframe tbody tr th:only-of-type {\n",
       "        vertical-align: middle;\n",
       "    }\n",
       "\n",
       "    .dataframe tbody tr th {\n",
       "        vertical-align: top;\n",
       "    }\n",
       "\n",
       "    .dataframe thead th {\n",
       "        text-align: right;\n",
       "    }\n",
       "</style>\n",
       "<table border=\"1\" class=\"dataframe\">\n",
       "  <thead>\n",
       "    <tr style=\"text-align: right;\">\n",
       "      <th></th>\n",
       "      <th></th>\n",
       "      <th>mol_MAE</th>\n",
       "      <th>mol_MSE</th>\n",
       "      <th>mean_abs</th>\n",
       "      <th>std</th>\n",
       "      <th>n</th>\n",
       "      <th>mol_n</th>\n",
       "    </tr>\n",
       "    <tr>\n",
       "      <th>nuc</th>\n",
       "      <th>method</th>\n",
       "      <th></th>\n",
       "      <th></th>\n",
       "      <th></th>\n",
       "      <th></th>\n",
       "      <th></th>\n",
       "      <th></th>\n",
       "    </tr>\n",
       "  </thead>\n",
       "  <tbody>\n",
       "    <tr>\n",
       "      <th rowspan=\"3\" valign=\"top\">13C</th>\n",
       "      <th>abinitio</th>\n",
       "      <td>1.715791</td>\n",
       "      <td>2.103969</td>\n",
       "      <td>1.593193</td>\n",
       "      <td>2.325279</td>\n",
       "      <td>1346.0</td>\n",
       "      <td>191.0</td>\n",
       "    </tr>\n",
       "    <tr>\n",
       "      <th>gnn</th>\n",
       "      <td>0.956912</td>\n",
       "      <td>1.155720</td>\n",
       "      <td>0.915575</td>\n",
       "      <td>1.464932</td>\n",
       "      <td>1041.0</td>\n",
       "      <td>149.0</td>\n",
       "    </tr>\n",
       "    <tr>\n",
       "      <th>hose</th>\n",
       "      <td>2.361856</td>\n",
       "      <td>3.182079</td>\n",
       "      <td>2.018634</td>\n",
       "      <td>3.611188</td>\n",
       "      <td>1350.0</td>\n",
       "      <td>191.0</td>\n",
       "    </tr>\n",
       "    <tr>\n",
       "      <th rowspan=\"3\" valign=\"top\">1H</th>\n",
       "      <th>abinitio</th>\n",
       "      <td>0.381666</td>\n",
       "      <td>0.583926</td>\n",
       "      <td>0.340026</td>\n",
       "      <td>0.895778</td>\n",
       "      <td>1355.0</td>\n",
       "      <td>181.0</td>\n",
       "    </tr>\n",
       "    <tr>\n",
       "      <th>gnn</th>\n",
       "      <td>0.282651</td>\n",
       "      <td>0.394013</td>\n",
       "      <td>0.260523</td>\n",
       "      <td>0.631381</td>\n",
       "      <td>1355.0</td>\n",
       "      <td>181.0</td>\n",
       "    </tr>\n",
       "    <tr>\n",
       "      <th>hose</th>\n",
       "      <td>0.391450</td>\n",
       "      <td>0.540497</td>\n",
       "      <td>0.356043</td>\n",
       "      <td>0.781667</td>\n",
       "      <td>1355.0</td>\n",
       "      <td>181.0</td>\n",
       "    </tr>\n",
       "  </tbody>\n",
       "</table>\n",
       "</div>"
      ],
      "text/plain": [
       "               mol_MAE   mol_MSE  mean_abs       std       n  mol_n\n",
       "nuc method                                                         \n",
       "13C abinitio  1.715791  2.103969  1.593193  2.325279  1346.0  191.0\n",
       "    gnn       0.956912  1.155720  0.915575  1.464932  1041.0  149.0\n",
       "    hose      2.361856  3.182079  2.018634  3.611188  1350.0  191.0\n",
       "1H  abinitio  0.381666  0.583926  0.340026  0.895778  1355.0  181.0\n",
       "    gnn       0.282651  0.394013  0.260523  0.631381  1355.0  181.0\n",
       "    hose      0.391450  0.540497  0.356043  0.781667  1355.0  181.0"
      ]
     },
     "execution_count": 360,
     "metadata": {},
     "output_type": "execute_result"
    }
   ],
   "source": [
    "all_pred_common_df.groupby(['nuc', 'method']).apply(metrics.compute_stats, \n",
    "                                                                mol_id_field='mol_id')"
   ]
  },
  {
   "cell_type": "code",
   "execution_count": 361,
   "metadata": {
    "ExecuteTime": {
     "end_time": "2018-11-11T01:37:58.012417Z",
     "start_time": "2018-11-11T01:37:57.722527Z"
    }
   },
   "outputs": [
    {
     "data": {
      "image/png": "[encoded data removed]",
      "text/plain": [
       "<Figure size 288x144 with 1 Axes>"
      ]
     },
     "metadata": {},
     "output_type": "display_data"
    },
    {
     "data": {
      "image/png": "[encoded data removed]",
      "text/plain": [
       "<Figure size 288x144 with 1 Axes>"
      ]
     },
     "metadata": {},
     "output_type": "display_data"
    }
   ],
   "source": [
    "import scipy.stats\n",
    "nuc_bins = {'13C' : np.linspace(0, 10, 100), \n",
    "       '1H' : np.linspace(0, 2, 100)}\n",
    "nuc_bw = {'13C' : 0.1, '1H' : 0.1}\n",
    "\n",
    "for nuc, nuc_g in all_pred_common_df.groupby('nuc'):\n",
    "    fig = pylab.figure(figsize=(4, 2))\n",
    "    ax =fig.add_subplot(1, 1, 1)\n",
    "    bins = nuc_bins[nuc]\n",
    "    for method, method_g in nuc_g.groupby('method'):\n",
    "        k = scipy.stats.gaussian_kde(method_g.delta, bw_method=nuc_bw[nuc])\n",
    "        pylab.plot(bins, k(bins), label=method)\n",
    "        ax.grid(False)\n",
    "    pylab.legend()"
   ]
  },
  {
   "cell_type": "code",
   "execution_count": 362,
   "metadata": {
    "ExecuteTime": {
     "end_time": "2018-11-11T01:38:00.504287Z",
     "start_time": "2018-11-11T01:38:00.222747Z"
    }
   },
   "outputs": [
    {
     "data": {
      "image/png": "[encoded data removed]",
      "text/plain": [
       "<Figure size 288x144 with 1 Axes>"
      ]
     },
     "metadata": {},
     "output_type": "display_data"
    },
    {
     "data": {
      "image/png": "[encoded data removed]",
      "text/plain": [
       "<Figure size 288x144 with 1 Axes>"
      ]
     },
     "metadata": {},
     "output_type": "display_data"
    }
   ],
   "source": [
    "import scipy.stats\n",
    "nuc_bins = {'13C' : np.linspace(0, 10, 20), \n",
    "       '1H' : np.linspace(0, 2, 100)}\n",
    "nuc_bw = {'13C' : 0.1, '1H' : 0.1}\n",
    "\n",
    "for nuc, nuc_g in all_pred_common_df.groupby('nuc'):\n",
    "    fig = pylab.figure(figsize=(4, 2))\n",
    "    ax =fig.add_subplot(1, 1, 1)\n",
    "    bins = nuc_bins[nuc]\n",
    "    for method, method_g in nuc_g.groupby('method'):\n",
    "        y = np.sort(method_g.delta_abs)[::-1]\n",
    "        x = np.arange(len(y))/len(y)\n",
    "        #h, _= np.histogram(method_g.delta, bins=bins)\n",
    "        pylab.plot(x, y, label=method)\n",
    "        ax.grid(False)\n",
    "    pylab.legend()"
   ]
  },
  {
   "cell_type": "code",
   "execution_count": 363,
   "metadata": {
    "ExecuteTime": {
     "end_time": "2018-11-11T01:38:05.182061Z",
     "start_time": "2018-11-11T01:38:04.834831Z"
    }
   },
   "outputs": [
    {
     "name": "stderr",
     "output_type": "stream",
     "text": [
      "/data/jonas/anaconda/envs/py36/lib/python3.6/site-packages/scipy/stats/stats.py:1713: FutureWarning: Using a non-tuple sequence for multidimensional indexing is deprecated; use `arr[tuple(seq)]` instead of `arr[seq]`. In the future this will be interpreted as an array index, `arr[np.array(seq)]`, which will result either in an error or a different result.\n",
      "  return np.add.reduce(sorted[indexer] * weights, axis=axis) / sumval\n"
     ]
    },
    {
     "data": {
      "image/png": "[encoded data removed]",
      "text/plain": [
       "<Figure size 432x288 with 1 Axes>"
      ]
     },
     "metadata": {},
     "output_type": "display_data"
    },
    {
     "data": {
      "image/png": "[encoded data removed]",
      "text/plain": [
       "<Figure size 432x288 with 1 Axes>"
      ]
     },
     "metadata": {},
     "output_type": "display_data"
    }
   ],
   "source": [
    "for nuc, nuc_g in all_pred_common_df.groupby('nuc'):\n",
    "    pylab.figure()\n",
    "    sns.violinplot(x='method', y='delta_abs', data=nuc_g)"
   ]
  },
  {
   "cell_type": "markdown",
   "metadata": {
    "run_control": {
     "frozen": false,
     "read_only": true
    }
   },
   "source": [
    "# which atoms in molecule"
   ]
  },
  {
   "cell_type": "code",
   "execution_count": 364,
   "metadata": {
    "ExecuteTime": {
     "end_time": "2018-11-11T01:38:20.497038Z",
     "start_time": "2018-11-11T01:38:06.858107Z"
    }
   },
   "outputs": [
    {
     "name": "stderr",
     "output_type": "stream",
     "text": [
      "100%|██████████| 34974/34974 [00:08<00:00, 4274.42it/s]\n"
     ]
    }
   ],
   "source": [
    "mol_df = pickle.load(open(\"../dataset.named/molconf.nmrshiftdb_hconfspcl_nmrshiftdb.pickle\", 'rb'))['df']\n",
    "neighbors_df = util.mol_df_to_neighbor_atoms(mol_df)\n"
   ]
  },
  {
   "cell_type": "code",
   "execution_count": 365,
   "metadata": {
    "ExecuteTime": {
     "end_time": "2018-11-11T01:38:21.847555Z",
     "start_time": "2018-11-11T01:38:21.481065Z"
    }
   },
   "outputs": [],
   "source": [
    "a = all_pred_common_df.join(neighbors_df, on=['mol_id', 'atom_idx'])\n",
    "cat_df = []\n",
    "for e in ['H', 'C', 'O', 'Cl', 'F', 'N', 'S', 'P']:\n",
    "    b = a[a[e] > 0].copy()\n",
    "    b['bond'] = e\n",
    "    cat_df.append(b)\n",
    "cat_df = pd.concat(cat_df)"
   ]
  },
  {
   "cell_type": "code",
   "execution_count": 366,
   "metadata": {
    "ExecuteTime": {
     "end_time": "2018-11-11T01:38:24.036802Z",
     "start_time": "2018-11-11T01:38:22.789793Z"
    },
    "scrolled": false
   },
   "outputs": [
    {
     "name": "stderr",
     "output_type": "stream",
     "text": [
      "/data/jonas/anaconda/envs/py36/lib/python3.6/site-packages/scipy/stats/stats.py:1713: FutureWarning: Using a non-tuple sequence for multidimensional indexing is deprecated; use `arr[tuple(seq)]` instead of `arr[seq]`. In the future this will be interpreted as an array index, `arr[np.array(seq)]`, which will result either in an error or a different result.\n",
      "  return np.add.reduce(sorted[indexer] * weights, axis=axis) / sumval\n"
     ]
    },
    {
     "data": {
      "text/plain": [
       "<Figure size 432x288 with 0 Axes>"
      ]
     },
     "metadata": {},
     "output_type": "display_data"
    },
    {
     "data": {
      "image/png": "[encoded data removed]",
      "text/plain": [
       "<Figure size 433.25x360 with 1 Axes>"
      ]
     },
     "metadata": {},
     "output_type": "display_data"
    },
    {
     "data": {
      "text/plain": [
       "<Figure size 432x288 with 0 Axes>"
      ]
     },
     "metadata": {},
     "output_type": "display_data"
    },
    {
     "data": {
      "image/png": "[encoded data removed]",
      "text/plain": [
       "<Figure size 433.25x360 with 1 Axes>"
      ]
     },
     "metadata": {},
     "output_type": "display_data"
    }
   ],
   "source": [
    "for nuc, nuc_df in cat_df.groupby('nuc'):\n",
    "    pylab.figure()\n",
    "    g = sns.catplot(x='bond', y='delta_abs', hue='method',\n",
    "                data=nuc_df, kind=\"bar\", palette=\"muted\", #ci='sd',\n",
    "                    hue_order=['hose', 'abinitio', 'gnn'])\n",
    "    \n",
    "    g.despine(left=True)\n"
   ]
  },
  {
   "cell_type": "code",
   "execution_count": 354,
   "metadata": {
    "ExecuteTime": {
     "end_time": "2018-11-10T23:06:44.338965Z",
     "start_time": "2018-11-10T23:06:44.241209Z"
    }
   },
   "outputs": [
    {
     "data": {
      "image/png": "[encoded data removed]",
      "text/plain": [
       "<Figure size 720x72 with 1 Axes>"
      ]
     },
     "metadata": {},
     "output_type": "display_data"
    }
   ],
   "source": [
    "sns.palplot(sns.color_palette(\"pastel\"))\n"
   ]
  }
 ],
 "metadata": {
  "kernelspec": {
   "display_name": "Python 3",
   "language": "python",
   "name": "python3"
  },
  "language_info": {
   "codemirror_mode": {
    "name": "ipython",
    "version": 3
   },
   "file_extension": ".py",
   "mimetype": "text/x-python",
   "name": "python",
   "nbconvert_exporter": "python",
   "pygments_lexer": "ipython3",
   "version": "3.6.5"
  },
  "toc": {
   "nav_menu": {
    "height": "118.646px",
    "width": "251.979px"
   },
   "navigate_menu": true,
   "number_sections": true,
   "sideBar": true,
   "threshold": 4,
   "toc_cell": false,
   "toc_section_display": "block",
   "toc_window_display": false
  }
 },
 "nbformat": 4,
 "nbformat_minor": 2
}
